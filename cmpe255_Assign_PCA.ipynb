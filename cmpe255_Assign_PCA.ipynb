{
  "nbformat": 4,
  "nbformat_minor": 0,
  "metadata": {
    "colab": {
      "name": "cmpe255-Assign_PCA.ipynb",
      "provenance": [],
      "mount_file_id": "1L3gtcftxycW3_vuFGGg2FV26xgovIRHH",
      "authorship_tag": "ABX9TyMj6HDI0UOlidkOAkrYFvIP",
      "include_colab_link": true
    },
    "kernelspec": {
      "name": "python3",
      "display_name": "Python 3"
    },
    "language_info": {
      "name": "python"
    }
  },
  "cells": [
    {
      "cell_type": "markdown",
      "metadata": {
        "id": "view-in-github",
        "colab_type": "text"
      },
      "source": [
        "<a href=\"https://colab.research.google.com/github/akanksha0911/Colab-demonstrate-various-dimensionality-reduction-techniques/blob/main/cmpe255_Assign_PCA.ipynb\" target=\"_parent\"><img src=\"https://colab.research.google.com/assets/colab-badge.svg\" alt=\"Open In Colab\"/></a>"
      ]
    },
    {
      "cell_type": "markdown",
      "metadata": {
        "id": "SVZ5Hh5wXNzY"
      },
      "source": [
        "For illustration, I have used the Olivetti dataset, available at: https://www.kaggle.com/imrandude/olivetti)"
      ]
    },
    {
      "cell_type": "markdown",
      "metadata": {
        "id": "AA0PvF_dXTQQ"
      },
      "source": [
        "Consider we are given a large number of images of human faces (for this dataset, we have 400 images), each image is 64×64(4096\n",
        "\n",
        "dimensions).\n",
        "\n",
        "Now, we would like to represent and store the images using much fewer dimensions(say 100\n",
        "dimensions)."
      ]
    },
    {
      "cell_type": "markdown",
      "metadata": {
        "id": "amrI5UYWgw9O"
      },
      "source": [
        "Brief information about Olivetti Dataset:\n",
        "\n",
        "    Face images taken between April 1992 and April 1994.\n",
        "    There are ten different image of each of 40 distinct people\n",
        "    There are 400 face images in the dataset\n",
        "    Face images were taken at different times, variying ligthing, facial express and facial detail\n",
        "    All face images have black background\n",
        "    The images are gray level\n",
        "    Size of each image is 64x64\n",
        "    Image pixel values were scaled to [0, 1] interval\n",
        "    Names of 40 people were encoded to an integer from 0 to 39\n"
      ]
    },
    {
      "cell_type": "code",
      "metadata": {
        "id": "iEcIs51kXVrM"
      },
      "source": [
        "import numpy as np\n",
        "import matplotlib.pyplot as plt\n",
        "from numpy import linalg as LA\n",
        "\n",
        "images = np.load('/content/drive/MyDrive/Kaggle_data/olivetti_faces.npy')\n",
        "target = np.load('/content/drive/MyDrive/Kaggle_data/olivetti_faces_target.npy')"
      ],
      "execution_count": 2,
      "outputs": []
    },
    {
      "cell_type": "code",
      "metadata": {
        "colab": {
          "base_uri": "https://localhost:8080/"
        },
        "id": "FWjByJrsbg-b",
        "outputId": "69e91ad0-f239-4bdb-acc4-82cbc1ddfd7a"
      },
      "source": [
        "images.shape"
      ],
      "execution_count": 3,
      "outputs": [
        {
          "output_type": "execute_result",
          "data": {
            "text/plain": [
              "(400, 64, 64)"
            ]
          },
          "metadata": {},
          "execution_count": 3
        }
      ]
    },
    {
      "cell_type": "code",
      "metadata": {
        "colab": {
          "base_uri": "https://localhost:8080/"
        },
        "id": "sFNPaggJglVY",
        "outputId": "e8fdbc5e-75cf-4b03-c3d0-fbeefd6ad35d"
      },
      "source": [
        "target.shape"
      ],
      "execution_count": 4,
      "outputs": [
        {
          "output_type": "execute_result",
          "data": {
            "text/plain": [
              "(400,)"
            ]
          },
          "metadata": {},
          "execution_count": 4
        }
      ]
    },
    {
      "cell_type": "code",
      "metadata": {
        "colab": {
          "base_uri": "https://localhost:8080/"
        },
        "id": "lsKc7QNlg9xO",
        "outputId": "56631752-b333-426a-a8c0-e974831f66dd"
      },
      "source": [
        "print(\"There are {} images in the dataset\".format(len(images)))\n",
        "print(\"There are {} unique targets in the dataset\".format(len(np.unique(target))))\n",
        "print(\"Size of each image is {}x{}\".format(images.shape[1],images.shape[2]))"
      ],
      "execution_count": 5,
      "outputs": [
        {
          "output_type": "stream",
          "name": "stdout",
          "text": [
            "There are 400 images in the dataset\n",
            "There are 40 unique targets in the dataset\n",
            "Size of each image is 64x64\n"
          ]
        }
      ]
    },
    {
      "cell_type": "code",
      "metadata": {
        "colab": {
          "base_uri": "https://localhost:8080/",
          "height": 285
        },
        "id": "UxYsfwPTbmNK",
        "outputId": "0db6ba9f-351e-4909-a891-b3970d68230c"
      },
      "source": [
        "plt.imshow(images[0], cmap='gray')"
      ],
      "execution_count": 6,
      "outputs": [
        {
          "output_type": "execute_result",
          "data": {
            "text/plain": [
              "<matplotlib.image.AxesImage at 0x7fe749606e10>"
            ]
          },
          "metadata": {},
          "execution_count": 6
        },
        {
          "output_type": "display_data",
          "data": {
            "image/png": "[encoded data removed]",
            "text/plain": [
              "<Figure size 432x288 with 1 Axes>"
            ]
          },
          "metadata": {
            "needs_background": "light"
          }
        }
      ]
    },
    {
      "cell_type": "markdown",
      "metadata": {
        "id": "bzqr0FtXbxbT"
      },
      "source": [
        "Average face"
      ]
    },
    {
      "cell_type": "code",
      "metadata": {
        "colab": {
          "base_uri": "https://localhost:8080/"
        },
        "id": "LdHprZHndcuu",
        "outputId": "d2f08c5e-0995-4c24-abca-fe5f05aab5e4"
      },
      "source": [
        "# 5.0 Flatten each image\n",
        "data = images.reshape(images.shape[0], images.shape[1] * images.shape[2])     # (400, 64 X 64) = (400, 4096)\n",
        "# 5.1 Flattened 64 X 64 array\n",
        "data.shape  "
      ],
      "execution_count": 7,
      "outputs": [
        {
          "output_type": "execute_result",
          "data": {
            "text/plain": [
              "(400, 4096)"
            ]
          },
          "metadata": {},
          "execution_count": 7
        }
      ]
    },
    {
      "cell_type": "markdown",
      "metadata": {
        "id": "zrdu53MVwd98"
      },
      "source": [
        "Split data and target into Random train and test Subsets"
      ]
    },
    {
      "cell_type": "markdown",
      "metadata": {
        "id": "XX_m4r6hhf_r"
      },
      "source": [
        "The data set contains 10 face images for each subject. Of the face images, 70 percent will be used for training, 30 percent for testing. Uses stratify feature to have equal number of training and test images for each subject. Thus, there will be 7 training images and 3 test images for each subject. "
      ]
    },
    {
      "cell_type": "code",
      "metadata": {
        "colab": {
          "base_uri": "https://localhost:8080/"
        },
        "id": "03GOAfhEhOiC",
        "outputId": "4460ca30-3757-40b8-b593-21f661c31879"
      },
      "source": [
        "# Split data and target into Random train and test Subsets\n",
        "\n",
        "from sklearn.model_selection import train_test_split\n",
        "X_train, X_test, y_train, y_test=train_test_split(data, target, test_size=0.3, stratify=target, random_state=0)\n",
        "print(\"X_train shape:\",X_train.shape)\n",
        "print(\"y_train shape:{}\".format(y_train.shape))"
      ],
      "execution_count": 8,
      "outputs": [
        {
          "output_type": "stream",
          "name": "stdout",
          "text": [
            "X_train shape: (280, 4096)\n",
            "y_train shape:(280,)\n"
          ]
        }
      ]
    },
    {
      "cell_type": "markdown",
      "metadata": {
        "id": "awq7gL9DinkW"
      },
      "source": [
        "PCA"
      ]
    },
    {
      "cell_type": "code",
      "metadata": {
        "colab": {
          "base_uri": "https://localhost:8080/"
        },
        "id": "7cKN8mavyGxj",
        "outputId": "586221c0-77f0-4a51-871a-4efc1fc7f1bb"
      },
      "source": [
        "from sklearn.decomposition import PCA\n",
        "pca=PCA(n_components=2)\n",
        "pca.fit(data)\n",
        "X_pca=pca.transform(data)\n",
        "\n",
        "print(\"original shape:\", data.shape)\n",
        "print(\"transformed shape:\", X_pca.shape)\n"
      ],
      "execution_count": 9,
      "outputs": [
        {
          "output_type": "stream",
          "name": "stdout",
          "text": [
            "original shape: (400, 4096)\n",
            "transformed shape: (400, 2)\n"
          ]
        }
      ]
    },
    {
      "cell_type": "code",
      "metadata": {
        "colab": {
          "base_uri": "https://localhost:8080/",
          "height": 497
        },
        "id": "8anXdQwjimOb",
        "outputId": "1edb8a13-69f2-4464-f813-682b5c506eff"
      },
      "source": [
        "plt.figure(1, figsize=(12,8))\n",
        "\n",
        "plt.plot(pca.explained_variance_, linewidth=2)\n",
        " \n",
        "plt.xlabel('Components')\n",
        "plt.ylabel('Explained Variaces')\n",
        "plt.show()\n"
      ],
      "execution_count": 10,
      "outputs": [
        {
          "output_type": "display_data",
          "data": {
            "image/png": "[encoded data removed]",
            "text/plain": [
              "<Figure size 864x576 with 1 Axes>"
            ]
          },
          "metadata": {
            "needs_background": "light"
          }
        }
      ]
    },
    {
      "cell_type": "markdown",
      "metadata": {
        "id": "0MX9D2Mti2tr"
      },
      "source": [
        "\n",
        "\n",
        "As you can see the values after about 60 are the same. This means that there are 60 important components that we can depend on.\n"
      ]
    },
    {
      "cell_type": "code",
      "metadata": {
        "colab": {
          "base_uri": "https://localhost:8080/"
        },
        "id": "TjwiVqdOi38M",
        "outputId": "1a19dab5-26d5-4f5c-c848-20d254184914"
      },
      "source": [
        "# Training\n",
        "n_components=60\n",
        "pca=PCA(n_components=n_components, whiten=True)\n",
        "pca.fit(data)\n",
        "\n",
        "\n"
      ],
      "execution_count": 11,
      "outputs": [
        {
          "output_type": "execute_result",
          "data": {
            "text/plain": [
              "PCA(copy=True, iterated_power='auto', n_components=60, random_state=None,\n",
              "    svd_solver='auto', tol=0.0, whiten=True)"
            ]
          },
          "metadata": {},
          "execution_count": 11
        }
      ]
    },
    {
      "cell_type": "code",
      "metadata": {
        "colab": {
          "base_uri": "https://localhost:8080/"
        },
        "id": "ii8Johm01w1X",
        "outputId": "2fce690c-c112-460f-b667-1fcc345974b2"
      },
      "source": [
        "print(pca.components_)"
      ],
      "execution_count": 12,
      "outputs": [
        {
          "output_type": "stream",
          "name": "stdout",
          "text": [
            "[[-0.00419113 -0.00710953 -0.00933613 ...  0.00018518  0.00337968\n",
            "   0.00318828]\n",
            " [-0.02859136 -0.03328831 -0.03784651 ...  0.02962784  0.02721299\n",
            "   0.024889  ]\n",
            " [ 0.00135689 -0.00032573 -0.00019797 ... -0.01541369 -0.01370982\n",
            "  -0.01188346]\n",
            " ...\n",
            " [ 0.04046525  0.04753831  0.02782864 ...  0.01130859  0.01341932\n",
            "   0.01280474]\n",
            " [ 0.02820375  0.03184691  0.03559017 ...  0.03421762  0.02542758\n",
            "   0.02076938]\n",
            " [-0.0260255  -0.03851348 -0.04959707 ...  0.00645068  0.01503459\n",
            "   0.01217993]]\n"
          ]
        }
      ]
    },
    {
      "cell_type": "code",
      "metadata": {
        "colab": {
          "base_uri": "https://localhost:8080/"
        },
        "id": "RlclEviO13h0",
        "outputId": "0be088c6-492f-483c-eceb-9610c009c5ea"
      },
      "source": [
        "print(pca.explained_variance_ratio_)"
      ],
      "execution_count": 13,
      "outputs": [
        {
          "output_type": "stream",
          "name": "stdout",
          "text": [
            "[0.23812705 0.13993979 0.0796861  0.04998329 0.03609849 0.03156937\n",
            " 0.02426833 0.02036399 0.01958113 0.01672124 0.01595222 0.01436979\n",
            " 0.01246742 0.01147133 0.01062877 0.00977719 0.0091906  0.00815573\n",
            " 0.00753874 0.00746985 0.00698578 0.00614627 0.00583927 0.00569721\n",
            " 0.0054619  0.00531855 0.00513815 0.0049584  0.00457663 0.00441178\n",
            " 0.00401998 0.00384174 0.00361935 0.00334514 0.00320351 0.00315987\n",
            " 0.00304983 0.00298553 0.00282017 0.00273835 0.00259485 0.00253742\n",
            " 0.00244298 0.00239269 0.0022967  0.00226057 0.00221477 0.00219748\n",
            " 0.00208065 0.00203881 0.00195808 0.00190563 0.00181433 0.00177034\n",
            " 0.00175681 0.00171018 0.00164164 0.001607   0.00157611 0.00155877]\n"
          ]
        }
      ]
    },
    {
      "cell_type": "markdown",
      "metadata": {
        "id": "jmS1LJ0EjCwI"
      },
      "source": [
        "We will plot average face. That is we will take the mean of the faces based on the calculated PCA."
      ]
    },
    {
      "cell_type": "code",
      "metadata": {
        "colab": {
          "base_uri": "https://localhost:8080/",
          "height": 503
        },
        "id": "OU-TmikRjDm3",
        "outputId": "cbe147b4-0bbb-43ad-c75d-e4a73e8df6fe"
      },
      "source": [
        "fig,ax=plt.subplots(1,1,figsize=(8,8))\n",
        "ax.imshow(pca.mean_.reshape((64,64)), cmap=\"gray\")\n",
        "ax.set_xticks([])\n",
        "ax.set_yticks([])\n",
        "ax.set_title('Average Face')"
      ],
      "execution_count": 14,
      "outputs": [
        {
          "output_type": "execute_result",
          "data": {
            "text/plain": [
              "Text(0.5, 1.0, 'Average Face')"
            ]
          },
          "metadata": {},
          "execution_count": 14
        },
        {
          "output_type": "display_data",
          "data": {
            "image/png": "[encoded data removed]",
            "text/plain": [
              "<Figure size 576x576 with 1 Axes>"
            ]
          },
          "metadata": {}
        }
      ]
    },
    {
      "cell_type": "markdown",
      "metadata": {
        "id": "rBJGFljHCyRH"
      },
      "source": [
        "SVD"
      ]
    },
    {
      "cell_type": "code",
      "metadata": {
        "colab": {
          "base_uri": "https://localhost:8080/"
        },
        "id": "32i3q_m4IKWx",
        "outputId": "7f9e0889-05e9-4b3d-9314-0bfda5101b47"
      },
      "source": [
        "data1 = images[0]\n",
        "data1.shape"
      ],
      "execution_count": 15,
      "outputs": [
        {
          "output_type": "execute_result",
          "data": {
            "text/plain": [
              "(64, 64)"
            ]
          },
          "metadata": {},
          "execution_count": 15
        }
      ]
    },
    {
      "cell_type": "markdown",
      "metadata": {
        "id": "AHdWgWDyDBI1"
      },
      "source": [
        "output of SVD is three matrices, u, s, and v. The matrices u and v are singular vectors and s is singular values"
      ]
    },
    {
      "cell_type": "code",
      "metadata": {
        "colab": {
          "base_uri": "https://localhost:8080/"
        },
        "id": "GKLwgrVyCxs2",
        "outputId": "88308b00-9d8f-4f46-c4cb-0fa9dd253256"
      },
      "source": [
        "U, S, V = np.linalg.svd(data1)\n",
        "\n",
        "U.shape\n",
        "\n"
      ],
      "execution_count": 16,
      "outputs": [
        {
          "output_type": "execute_result",
          "data": {
            "text/plain": [
              "(64, 64)"
            ]
          },
          "metadata": {},
          "execution_count": 16
        }
      ]
    },
    {
      "cell_type": "code",
      "metadata": {
        "colab": {
          "base_uri": "https://localhost:8080/"
        },
        "id": "6P7oQJV_Gazq",
        "outputId": "33ffccf6-48cd-4bce-83c4-707fc253a7c4"
      },
      "source": [
        "S.shape"
      ],
      "execution_count": 17,
      "outputs": [
        {
          "output_type": "execute_result",
          "data": {
            "text/plain": [
              "(64,)"
            ]
          },
          "metadata": {},
          "execution_count": 17
        }
      ]
    },
    {
      "cell_type": "code",
      "metadata": {
        "colab": {
          "base_uri": "https://localhost:8080/"
        },
        "id": "YVROoI6bGdck",
        "outputId": "eef0044b-dcc8-4c2d-dbdb-bb27530bd9db"
      },
      "source": [
        "V.shape"
      ],
      "execution_count": 18,
      "outputs": [
        {
          "output_type": "execute_result",
          "data": {
            "text/plain": [
              "(64, 64)"
            ]
          },
          "metadata": {},
          "execution_count": 18
        }
      ]
    },
    {
      "cell_type": "code",
      "metadata": {
        "colab": {
          "base_uri": "https://localhost:8080/",
          "height": 482
        },
        "id": "KC6AbweZ95eJ",
        "outputId": "88f43220-ef82-4fc8-de1e-0b9cbba5970d"
      },
      "source": [
        "# plot images with different number of components\n",
        "comps = [638, 500, 400, 300, 200, 100]\n",
        "\n",
        "plt.figure(figsize = (16, 8))\n",
        "for i in range(6):\n",
        "  low_rank = U[:, :comps[i]] @ np.diag(S[:comps[i]]) @ V[:comps[i], :]\n",
        "  if(i  == 0):\n",
        "     plt.subplot(2, 3, i+1), plt.imshow(low_rank, cmap = 'gray'), plt.axis('off'), plt.title(\"Original Image with n_components =\" + str(comps[i]))\n",
        "  else:\n",
        "     plt.subplot(2, 3, i+1), plt.imshow(low_rank, cmap = 'gray'), plt.axis('off'), plt.title(\"n_components =\" + str(comps[i]))"
      ],
      "execution_count": 19,
      "outputs": [
        {
          "output_type": "display_data",
          "data": {
            "image/png": "[encoded data removed]",
            "text/plain": [
              "<Figure size 1152x576 with 6 Axes>"
            ]
          },
          "metadata": {
            "needs_background": "light"
          }
        }
      ]
    },
    {
      "cell_type": "code",
      "metadata": {
        "colab": {
          "base_uri": "https://localhost:8080/"
        },
        "id": "watCp0qJ-2t1",
        "outputId": "7e2a074a-3322-4954-c9e0-53bca56f0a17"
      },
      "source": [
        "print(U @ np.diag(S) @ V)"
      ],
      "execution_count": 20,
      "outputs": [
        {
          "output_type": "stream",
          "name": "stdout",
          "text": [
            "[[0.30991736 0.36776862 0.4173553  ... 0.37190083 0.33057848 0.30578515]\n",
            " [0.34297514 0.40495875 0.43801644 ... 0.37190086 0.33884293 0.31404948]\n",
            " [0.3429752  0.4173554  0.45041317 ... 0.38016528 0.33884302 0.2975207 ]\n",
            " ...\n",
            " [0.214876   0.20661156 0.22314048 ... 0.15289252 0.16528916 0.17355369]\n",
            " [0.20247935 0.21074373 0.21074393 ... 0.1487603  0.16115703 0.16528925]\n",
            " [0.20247938 0.20661156 0.20247924 ... 0.15289262 0.16115703 0.15702473]]\n"
          ]
        }
      ]
    },
    {
      "cell_type": "code",
      "metadata": {
        "colab": {
          "base_uri": "https://localhost:8080/",
          "height": 285
        },
        "id": "-7fdzlJ0CICm",
        "outputId": "ff87ea51-3c7a-4723-ee64-e77596c8a456"
      },
      "source": [
        "import seaborn as sns\n",
        "var_explained = np.round(S**2/np.sum(S**2), decimals=3)\n",
        "var_explained\n",
        " \n",
        "sns.barplot(x=list(range(1,len(var_explained)+1)),\n",
        "            y=var_explained, color=\"limegreen\")\n",
        "plt.xlabel('SVs', fontsize=16)\n",
        "plt.ylabel('Percent Variance Explained', fontsize=16)\n",
        "plt.savefig('svd_scree_plot.png',dpi=100)"
      ],
      "execution_count": 22,
      "outputs": [
        {
          "output_type": "display_data",
          "data": {
            "image/png": "[encoded data removed]",
            "text/plain": [
              "<Figure size 432x288 with 1 Axes>"
            ]
          },
          "metadata": {
            "needs_background": "light"
          }
        }
      ]
    },
    {
      "cell_type": "markdown",
      "metadata": {
        "id": "Jirs1e4ADGpQ"
      },
      "source": [
        "Singular values help us compute variance explained by each singular vectors. We can visualize the percent variance explained by each singular vector "
      ]
    }
  ]
}